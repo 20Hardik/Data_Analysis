{
 "cells": [
  {
   "cell_type": "markdown",
   "id": "d213d3fe",
   "metadata": {},
   "source": [
    "# Exploratory Data Analysis of Titanic Dataset"
   ]
  },
  {
   "cell_type": "code",
   "execution_count": 1,
   "id": "597c2254",
   "metadata": {},
   "outputs": [],
   "source": [
    "import pandas as pd\n",
    "import numpy as np\n",
    "import matplotlib.pyplot as plt\n",
    "import seaborn as sns\n",
    "%matplotlib inline\n",
    "pd.set_option(\"display.max_rows\",None)"
   ]
  },
  {
   "cell_type": "code",
   "execution_count": 2,
   "id": "76ac6c5f",
   "metadata": {},
   "outputs": [],
   "source": [
    "train = pd.read_csv(\"C:\\\\Users\\\\Hardik Sachdeva\\\\Documents\\\\Python\\\\Titanic dataset\\\\train.csv\")\n",
    "test = pd.read_csv(\"C:\\\\Users\\\\Hardik Sachdeva\\\\Documents\\\\Python\\\\Titanic dataset\\\\test.csv\")"
   ]
  },
  {
   "cell_type": "code",
   "execution_count": 3,
   "id": "7aee4fac",
   "metadata": {
    "scrolled": true
   },
   "outputs": [
    {
     "data": {
      "text/html": [
       "<div>\n",
       "<style scoped>\n",
       "    .dataframe tbody tr th:only-of-type {\n",
       "        vertical-align: middle;\n",
       "    }\n",
       "\n",
       "    .dataframe tbody tr th {\n",
       "        vertical-align: top;\n",
       "    }\n",
       "\n",
       "    .dataframe thead th {\n",
       "        text-align: right;\n",
       "    }\n",
       "</style>\n",
       "<table border=\"1\" class=\"dataframe\">\n",
       "  <thead>\n",
       "    <tr style=\"text-align: right;\">\n",
       "      <th></th>\n",
       "      <th>PassengerId</th>\n",
       "      <th>Survived</th>\n",
       "      <th>Pclass</th>\n",
       "      <th>Name</th>\n",
       "      <th>Sex</th>\n",
       "      <th>Age</th>\n",
       "      <th>SibSp</th>\n",
       "      <th>Parch</th>\n",
       "      <th>Ticket</th>\n",
       "      <th>Fare</th>\n",
       "      <th>Cabin</th>\n",
       "      <th>Embarked</th>\n",
       "    </tr>\n",
       "  </thead>\n",
       "  <tbody>\n",
       "    <tr>\n",
       "      <th>0</th>\n",
       "      <td>1</td>\n",
       "      <td>0</td>\n",
       "      <td>3</td>\n",
       "      <td>Braund, Mr. Owen Harris</td>\n",
       "      <td>male</td>\n",
       "      <td>22.0</td>\n",
       "      <td>1</td>\n",
       "      <td>0</td>\n",
       "      <td>A/5 21171</td>\n",
       "      <td>7.2500</td>\n",
       "      <td>NaN</td>\n",
       "      <td>S</td>\n",
       "    </tr>\n",
       "    <tr>\n",
       "      <th>1</th>\n",
       "      <td>2</td>\n",
       "      <td>1</td>\n",
       "      <td>1</td>\n",
       "      <td>Cumings, Mrs. John Bradley (Florence Briggs Th...</td>\n",
       "      <td>female</td>\n",
       "      <td>38.0</td>\n",
       "      <td>1</td>\n",
       "      <td>0</td>\n",
       "      <td>PC 17599</td>\n",
       "      <td>71.2833</td>\n",
       "      <td>C85</td>\n",
       "      <td>C</td>\n",
       "    </tr>\n",
       "    <tr>\n",
       "      <th>2</th>\n",
       "      <td>3</td>\n",
       "      <td>1</td>\n",
       "      <td>3</td>\n",
       "      <td>Heikkinen, Miss. Laina</td>\n",
       "      <td>female</td>\n",
       "      <td>26.0</td>\n",
       "      <td>0</td>\n",
       "      <td>0</td>\n",
       "      <td>STON/O2. 3101282</td>\n",
       "      <td>7.9250</td>\n",
       "      <td>NaN</td>\n",
       "      <td>S</td>\n",
       "    </tr>\n",
       "    <tr>\n",
       "      <th>3</th>\n",
       "      <td>4</td>\n",
       "      <td>1</td>\n",
       "      <td>1</td>\n",
       "      <td>Futrelle, Mrs. Jacques Heath (Lily May Peel)</td>\n",
       "      <td>female</td>\n",
       "      <td>35.0</td>\n",
       "      <td>1</td>\n",
       "      <td>0</td>\n",
       "      <td>113803</td>\n",
       "      <td>53.1000</td>\n",
       "      <td>C123</td>\n",
       "      <td>S</td>\n",
       "    </tr>\n",
       "    <tr>\n",
       "      <th>4</th>\n",
       "      <td>5</td>\n",
       "      <td>0</td>\n",
       "      <td>3</td>\n",
       "      <td>Allen, Mr. William Henry</td>\n",
       "      <td>male</td>\n",
       "      <td>35.0</td>\n",
       "      <td>0</td>\n",
       "      <td>0</td>\n",
       "      <td>373450</td>\n",
       "      <td>8.0500</td>\n",
       "      <td>NaN</td>\n",
       "      <td>S</td>\n",
       "    </tr>\n",
       "  </tbody>\n",
       "</table>\n",
       "</div>"
      ],
      "text/plain": [
       "   PassengerId  Survived  Pclass  \\\n",
       "0            1         0       3   \n",
       "1            2         1       1   \n",
       "2            3         1       3   \n",
       "3            4         1       1   \n",
       "4            5         0       3   \n",
       "\n",
       "                                                Name     Sex   Age  SibSp  \\\n",
       "0                            Braund, Mr. Owen Harris    male  22.0      1   \n",
       "1  Cumings, Mrs. John Bradley (Florence Briggs Th...  female  38.0      1   \n",
       "2                             Heikkinen, Miss. Laina  female  26.0      0   \n",
       "3       Futrelle, Mrs. Jacques Heath (Lily May Peel)  female  35.0      1   \n",
       "4                           Allen, Mr. William Henry    male  35.0      0   \n",
       "\n",
       "   Parch            Ticket     Fare Cabin Embarked  \n",
       "0      0         A/5 21171   7.2500   NaN        S  \n",
       "1      0          PC 17599  71.2833   C85        C  \n",
       "2      0  STON/O2. 3101282   7.9250   NaN        S  \n",
       "3      0            113803  53.1000  C123        S  \n",
       "4      0            373450   8.0500   NaN        S  "
      ]
     },
     "execution_count": 3,
     "metadata": {},
     "output_type": "execute_result"
    }
   ],
   "source": [
    "train.head()"
   ]
  },
  {
   "cell_type": "code",
   "execution_count": 4,
   "id": "847c8234",
   "metadata": {
    "scrolled": true
   },
   "outputs": [
    {
     "data": {
      "text/html": [
       "<div>\n",
       "<style scoped>\n",
       "    .dataframe tbody tr th:only-of-type {\n",
       "        vertical-align: middle;\n",
       "    }\n",
       "\n",
       "    .dataframe tbody tr th {\n",
       "        vertical-align: top;\n",
       "    }\n",
       "\n",
       "    .dataframe thead th {\n",
       "        text-align: right;\n",
       "    }\n",
       "</style>\n",
       "<table border=\"1\" class=\"dataframe\">\n",
       "  <thead>\n",
       "    <tr style=\"text-align: right;\">\n",
       "      <th></th>\n",
       "      <th>PassengerId</th>\n",
       "      <th>Pclass</th>\n",
       "      <th>Name</th>\n",
       "      <th>Sex</th>\n",
       "      <th>Age</th>\n",
       "      <th>SibSp</th>\n",
       "      <th>Parch</th>\n",
       "      <th>Ticket</th>\n",
       "      <th>Fare</th>\n",
       "      <th>Cabin</th>\n",
       "      <th>Embarked</th>\n",
       "    </tr>\n",
       "  </thead>\n",
       "  <tbody>\n",
       "    <tr>\n",
       "      <th>0</th>\n",
       "      <td>892</td>\n",
       "      <td>3</td>\n",
       "      <td>Kelly, Mr. James</td>\n",
       "      <td>male</td>\n",
       "      <td>34.5</td>\n",
       "      <td>0</td>\n",
       "      <td>0</td>\n",
       "      <td>330911</td>\n",
       "      <td>7.8292</td>\n",
       "      <td>NaN</td>\n",
       "      <td>Q</td>\n",
       "    </tr>\n",
       "    <tr>\n",
       "      <th>1</th>\n",
       "      <td>893</td>\n",
       "      <td>3</td>\n",
       "      <td>Wilkes, Mrs. James (Ellen Needs)</td>\n",
       "      <td>female</td>\n",
       "      <td>47.0</td>\n",
       "      <td>1</td>\n",
       "      <td>0</td>\n",
       "      <td>363272</td>\n",
       "      <td>7.0000</td>\n",
       "      <td>NaN</td>\n",
       "      <td>S</td>\n",
       "    </tr>\n",
       "    <tr>\n",
       "      <th>2</th>\n",
       "      <td>894</td>\n",
       "      <td>2</td>\n",
       "      <td>Myles, Mr. Thomas Francis</td>\n",
       "      <td>male</td>\n",
       "      <td>62.0</td>\n",
       "      <td>0</td>\n",
       "      <td>0</td>\n",
       "      <td>240276</td>\n",
       "      <td>9.6875</td>\n",
       "      <td>NaN</td>\n",
       "      <td>Q</td>\n",
       "    </tr>\n",
       "    <tr>\n",
       "      <th>3</th>\n",
       "      <td>895</td>\n",
       "      <td>3</td>\n",
       "      <td>Wirz, Mr. Albert</td>\n",
       "      <td>male</td>\n",
       "      <td>27.0</td>\n",
       "      <td>0</td>\n",
       "      <td>0</td>\n",
       "      <td>315154</td>\n",
       "      <td>8.6625</td>\n",
       "      <td>NaN</td>\n",
       "      <td>S</td>\n",
       "    </tr>\n",
       "    <tr>\n",
       "      <th>4</th>\n",
       "      <td>896</td>\n",
       "      <td>3</td>\n",
       "      <td>Hirvonen, Mrs. Alexander (Helga E Lindqvist)</td>\n",
       "      <td>female</td>\n",
       "      <td>22.0</td>\n",
       "      <td>1</td>\n",
       "      <td>1</td>\n",
       "      <td>3101298</td>\n",
       "      <td>12.2875</td>\n",
       "      <td>NaN</td>\n",
       "      <td>S</td>\n",
       "    </tr>\n",
       "  </tbody>\n",
       "</table>\n",
       "</div>"
      ],
      "text/plain": [
       "   PassengerId  Pclass                                          Name     Sex  \\\n",
       "0          892       3                              Kelly, Mr. James    male   \n",
       "1          893       3              Wilkes, Mrs. James (Ellen Needs)  female   \n",
       "2          894       2                     Myles, Mr. Thomas Francis    male   \n",
       "3          895       3                              Wirz, Mr. Albert    male   \n",
       "4          896       3  Hirvonen, Mrs. Alexander (Helga E Lindqvist)  female   \n",
       "\n",
       "    Age  SibSp  Parch   Ticket     Fare Cabin Embarked  \n",
       "0  34.5      0      0   330911   7.8292   NaN        Q  \n",
       "1  47.0      1      0   363272   7.0000   NaN        S  \n",
       "2  62.0      0      0   240276   9.6875   NaN        Q  \n",
       "3  27.0      0      0   315154   8.6625   NaN        S  \n",
       "4  22.0      1      1  3101298  12.2875   NaN        S  "
      ]
     },
     "execution_count": 4,
     "metadata": {},
     "output_type": "execute_result"
    }
   ],
   "source": [
    "test.head()"
   ]
  },
  {
   "cell_type": "code",
   "execution_count": 5,
   "id": "c0994883",
   "metadata": {},
   "outputs": [
    {
     "name": "stdout",
     "output_type": "stream",
     "text": [
      "<class 'pandas.core.frame.DataFrame'>\n",
      "RangeIndex: 891 entries, 0 to 890\n",
      "Data columns (total 12 columns):\n",
      " #   Column       Non-Null Count  Dtype  \n",
      "---  ------       --------------  -----  \n",
      " 0   PassengerId  891 non-null    int64  \n",
      " 1   Survived     891 non-null    int64  \n",
      " 2   Pclass       891 non-null    int64  \n",
      " 3   Name         891 non-null    object \n",
      " 4   Sex          891 non-null    object \n",
      " 5   Age          714 non-null    float64\n",
      " 6   SibSp        891 non-null    int64  \n",
      " 7   Parch        891 non-null    int64  \n",
      " 8   Ticket       891 non-null    object \n",
      " 9   Fare         891 non-null    float64\n",
      " 10  Cabin        204 non-null    object \n",
      " 11  Embarked     889 non-null    object \n",
      "dtypes: float64(2), int64(5), object(5)\n",
      "memory usage: 83.7+ KB\n"
     ]
    }
   ],
   "source": [
    "train.info()"
   ]
  },
  {
   "cell_type": "code",
   "execution_count": 6,
   "id": "d0c85788",
   "metadata": {},
   "outputs": [
    {
     "data": {
      "text/html": [
       "<div>\n",
       "<style scoped>\n",
       "    .dataframe tbody tr th:only-of-type {\n",
       "        vertical-align: middle;\n",
       "    }\n",
       "\n",
       "    .dataframe tbody tr th {\n",
       "        vertical-align: top;\n",
       "    }\n",
       "\n",
       "    .dataframe thead th {\n",
       "        text-align: right;\n",
       "    }\n",
       "</style>\n",
       "<table border=\"1\" class=\"dataframe\">\n",
       "  <thead>\n",
       "    <tr style=\"text-align: right;\">\n",
       "      <th></th>\n",
       "      <th>PassengerId</th>\n",
       "      <th>Survived</th>\n",
       "      <th>Pclass</th>\n",
       "      <th>Age</th>\n",
       "      <th>SibSp</th>\n",
       "      <th>Parch</th>\n",
       "      <th>Fare</th>\n",
       "    </tr>\n",
       "  </thead>\n",
       "  <tbody>\n",
       "    <tr>\n",
       "      <th>count</th>\n",
       "      <td>891.000000</td>\n",
       "      <td>891.000000</td>\n",
       "      <td>891.000000</td>\n",
       "      <td>714.000000</td>\n",
       "      <td>891.000000</td>\n",
       "      <td>891.000000</td>\n",
       "      <td>891.000000</td>\n",
       "    </tr>\n",
       "    <tr>\n",
       "      <th>mean</th>\n",
       "      <td>446.000000</td>\n",
       "      <td>0.383838</td>\n",
       "      <td>2.308642</td>\n",
       "      <td>29.699118</td>\n",
       "      <td>0.523008</td>\n",
       "      <td>0.381594</td>\n",
       "      <td>32.204208</td>\n",
       "    </tr>\n",
       "    <tr>\n",
       "      <th>std</th>\n",
       "      <td>257.353842</td>\n",
       "      <td>0.486592</td>\n",
       "      <td>0.836071</td>\n",
       "      <td>14.526497</td>\n",
       "      <td>1.102743</td>\n",
       "      <td>0.806057</td>\n",
       "      <td>49.693429</td>\n",
       "    </tr>\n",
       "    <tr>\n",
       "      <th>min</th>\n",
       "      <td>1.000000</td>\n",
       "      <td>0.000000</td>\n",
       "      <td>1.000000</td>\n",
       "      <td>0.420000</td>\n",
       "      <td>0.000000</td>\n",
       "      <td>0.000000</td>\n",
       "      <td>0.000000</td>\n",
       "    </tr>\n",
       "    <tr>\n",
       "      <th>25%</th>\n",
       "      <td>223.500000</td>\n",
       "      <td>0.000000</td>\n",
       "      <td>2.000000</td>\n",
       "      <td>20.125000</td>\n",
       "      <td>0.000000</td>\n",
       "      <td>0.000000</td>\n",
       "      <td>7.910400</td>\n",
       "    </tr>\n",
       "    <tr>\n",
       "      <th>50%</th>\n",
       "      <td>446.000000</td>\n",
       "      <td>0.000000</td>\n",
       "      <td>3.000000</td>\n",
       "      <td>28.000000</td>\n",
       "      <td>0.000000</td>\n",
       "      <td>0.000000</td>\n",
       "      <td>14.454200</td>\n",
       "    </tr>\n",
       "    <tr>\n",
       "      <th>75%</th>\n",
       "      <td>668.500000</td>\n",
       "      <td>1.000000</td>\n",
       "      <td>3.000000</td>\n",
       "      <td>38.000000</td>\n",
       "      <td>1.000000</td>\n",
       "      <td>0.000000</td>\n",
       "      <td>31.000000</td>\n",
       "    </tr>\n",
       "    <tr>\n",
       "      <th>max</th>\n",
       "      <td>891.000000</td>\n",
       "      <td>1.000000</td>\n",
       "      <td>3.000000</td>\n",
       "      <td>80.000000</td>\n",
       "      <td>8.000000</td>\n",
       "      <td>6.000000</td>\n",
       "      <td>512.329200</td>\n",
       "    </tr>\n",
       "  </tbody>\n",
       "</table>\n",
       "</div>"
      ],
      "text/plain": [
       "       PassengerId    Survived      Pclass         Age       SibSp  \\\n",
       "count   891.000000  891.000000  891.000000  714.000000  891.000000   \n",
       "mean    446.000000    0.383838    2.308642   29.699118    0.523008   \n",
       "std     257.353842    0.486592    0.836071   14.526497    1.102743   \n",
       "min       1.000000    0.000000    1.000000    0.420000    0.000000   \n",
       "25%     223.500000    0.000000    2.000000   20.125000    0.000000   \n",
       "50%     446.000000    0.000000    3.000000   28.000000    0.000000   \n",
       "75%     668.500000    1.000000    3.000000   38.000000    1.000000   \n",
       "max     891.000000    1.000000    3.000000   80.000000    8.000000   \n",
       "\n",
       "            Parch        Fare  \n",
       "count  891.000000  891.000000  \n",
       "mean     0.381594   32.204208  \n",
       "std      0.806057   49.693429  \n",
       "min      0.000000    0.000000  \n",
       "25%      0.000000    7.910400  \n",
       "50%      0.000000   14.454200  \n",
       "75%      0.000000   31.000000  \n",
       "max      6.000000  512.329200  "
      ]
     },
     "execution_count": 6,
     "metadata": {},
     "output_type": "execute_result"
    }
   ],
   "source": [
    "train.describe()"
   ]
  },
  {
   "cell_type": "code",
   "execution_count": 7,
   "id": "6bf493cb",
   "metadata": {},
   "outputs": [
    {
     "data": {
      "text/plain": [
       "PassengerId      0\n",
       "Survived         0\n",
       "Pclass           0\n",
       "Name             0\n",
       "Sex              0\n",
       "Age            177\n",
       "SibSp            0\n",
       "Parch            0\n",
       "Ticket           0\n",
       "Fare             0\n",
       "Cabin          687\n",
       "Embarked         2\n",
       "dtype: int64"
      ]
     },
     "execution_count": 7,
     "metadata": {},
     "output_type": "execute_result"
    }
   ],
   "source": [
    "# find no. of missing values in each column\n",
    "train.isna().sum()"
   ]
  },
  {
   "cell_type": "markdown",
   "id": "2af49700",
   "metadata": {},
   "source": [
    "## Dealing with Missing Values"
   ]
  },
  {
   "cell_type": "markdown",
   "id": "2789dacf",
   "metadata": {},
   "source": [
    "heatmap can tell about the missing values in each column"
   ]
  },
  {
   "cell_type": "code",
   "execution_count": 8,
   "id": "dde4b51c",
   "metadata": {
    "scrolled": true
   },
   "outputs": [
    {
     "data": {
      "text/plain": [
       "<AxesSubplot:>"
      ]
     },
     "execution_count": 8,
     "metadata": {},
     "output_type": "execute_result"
    },
    {
     "data": {
      "image/png": "[encoded data removed]",
      "text/plain": [
       "<Figure size 432x288 with 2 Axes>"
      ]
     },
     "metadata": {
      "needs_background": "light"
     },
     "output_type": "display_data"
    }
   ],
   "source": [
    "sns.heatmap(train.isna())"
   ]
  },
  {
   "cell_type": "code",
   "execution_count": 9,
   "id": "f52bae53",
   "metadata": {},
   "outputs": [
    {
     "data": {
      "text/plain": [
       "<AxesSubplot:>"
      ]
     },
     "execution_count": 9,
     "metadata": {},
     "output_type": "execute_result"
    },
    {
     "data": {
      "image/png": "[encoded data removed]",
      "text/plain": [
       "<Figure size 432x288 with 2 Axes>"
      ]
     },
     "metadata": {
      "needs_background": "light"
     },
     "output_type": "display_data"
    }
   ],
   "source": [
    "sns.heatmap(test.isna())"
   ]
  },
  {
   "cell_type": "markdown",
   "id": "88b202f6",
   "metadata": {},
   "source": [
    "Both train and test dataframe have some missing values in Age column and a very few in Fare column which can be handled but the Cabin column is mostly empty so it can be dropped since it cannot give out relations to other features."
   ]
  },
  {
   "cell_type": "markdown",
   "id": "17ae794f",
   "metadata": {},
   "source": [
    "### Dealing with Missing values in Age "
   ]
  },
  {
   "cell_type": "markdown",
   "id": "6e26a00c",
   "metadata": {},
   "source": [
    "An relation b/w Age and Pclass can be used to handle missing values. Boxplot provides with average age of people in each Passenger Class which signifies that people of a certain age group prefer a particular passenger class. \n",
    "Thus, we can replace the missing age values with the average age of people in that particular Passenger Class "
   ]
  },
  {
   "cell_type": "code",
   "execution_count": 10,
   "id": "1db95dfd",
   "metadata": {
    "scrolled": false
   },
   "outputs": [
    {
     "data": {
      "text/plain": [
       "<AxesSubplot:xlabel='Pclass', ylabel='Age'>"
      ]
     },
     "execution_count": 10,
     "metadata": {},
     "output_type": "execute_result"
    },
    {
     "data": {
      "image/png": "[encoded data removed]",
      "text/plain": [
       "<Figure size 432x288 with 1 Axes>"
      ]
     },
     "metadata": {
      "needs_background": "light"
     },
     "output_type": "display_data"
    }
   ],
   "source": [
    "sns.boxplot(x='Pclass',y='Age',data=train)"
   ]
  },
  {
   "cell_type": "code",
   "execution_count": 11,
   "id": "1364eb94",
   "metadata": {},
   "outputs": [
    {
     "data": {
      "text/plain": [
       "38.233440860215055"
      ]
     },
     "execution_count": 11,
     "metadata": {},
     "output_type": "execute_result"
    }
   ],
   "source": [
    "train.Age[train['Pclass']==1].mean()"
   ]
  },
  {
   "cell_type": "code",
   "execution_count": 12,
   "id": "46807db2",
   "metadata": {},
   "outputs": [
    {
     "data": {
      "text/plain": [
       "29.87763005780347"
      ]
     },
     "execution_count": 12,
     "metadata": {},
     "output_type": "execute_result"
    }
   ],
   "source": [
    "train.Age[train['Pclass']==2].mean()"
   ]
  },
  {
   "cell_type": "code",
   "execution_count": 13,
   "id": "6fcf98f2",
   "metadata": {},
   "outputs": [
    {
     "data": {
      "text/plain": [
       "25.14061971830986"
      ]
     },
     "execution_count": 13,
     "metadata": {},
     "output_type": "execute_result"
    }
   ],
   "source": [
    "train.Age[train['Pclass']==3].mean()"
   ]
  },
  {
   "cell_type": "code",
   "execution_count": 14,
   "id": "c08ec651",
   "metadata": {},
   "outputs": [],
   "source": [
    "# Filling missing values with average age of passengers in each Passenger class\n",
    "train['Age']=np.where((train.Pclass==1),train['Age'].fillna(round(train.Age[train['Pclass']==1].mean())),train.Age)\n",
    "train['Age']=np.where((train.Pclass==2),train['Age'].fillna(round(train.Age[train['Pclass']==2].mean())),train.Age)\n",
    "train['Age']=np.where((train.Pclass==3),train['Age'].fillna(round(train.Age[train['Pclass']==3].mean())),train.Age)"
   ]
  },
  {
   "cell_type": "code",
   "execution_count": 15,
   "id": "af9364d8",
   "metadata": {},
   "outputs": [
    {
     "data": {
      "text/plain": [
       "<AxesSubplot:xlabel='Pclass', ylabel='Age'>"
      ]
     },
     "execution_count": 15,
     "metadata": {},
     "output_type": "execute_result"
    },
    {
     "data": {
      "image/png": "[encoded data removed]",
      "text/plain": [
       "<Figure size 432x288 with 1 Axes>"
      ]
     },
     "metadata": {
      "needs_background": "light"
     },
     "output_type": "display_data"
    }
   ],
   "source": [
    "sns.boxplot(x='Pclass',y='Age',data=test)"
   ]
  },
  {
   "cell_type": "code",
   "execution_count": 16,
   "id": "a9d84328",
   "metadata": {},
   "outputs": [
    {
     "data": {
      "text/plain": [
       "40.91836734693877"
      ]
     },
     "execution_count": 16,
     "metadata": {},
     "output_type": "execute_result"
    }
   ],
   "source": [
    "test.Age[test['Pclass']==1].mean()"
   ]
  },
  {
   "cell_type": "code",
   "execution_count": 17,
   "id": "4260ea8d",
   "metadata": {},
   "outputs": [
    {
     "data": {
      "text/plain": [
       "28.7775"
      ]
     },
     "execution_count": 17,
     "metadata": {},
     "output_type": "execute_result"
    }
   ],
   "source": [
    "test.Age[test['Pclass']==2].mean()"
   ]
  },
  {
   "cell_type": "code",
   "execution_count": 18,
   "id": "f2bc6119",
   "metadata": {},
   "outputs": [
    {
     "data": {
      "text/plain": [
       "24.02794520547945"
      ]
     },
     "execution_count": 18,
     "metadata": {},
     "output_type": "execute_result"
    }
   ],
   "source": [
    "test.Age[test['Pclass']==3].mean()"
   ]
  },
  {
   "cell_type": "code",
   "execution_count": 19,
   "id": "ac6721e0",
   "metadata": {},
   "outputs": [],
   "source": [
    "test['Age']=np.where((test.Pclass==1),test['Age'].fillna(round(test.Age[test['Pclass']==1].mean())),test.Age)\n",
    "test['Age']=np.where((test.Pclass==2),test['Age'].fillna(round(test.Age[test['Pclass']==2].mean())),test.Age)\n",
    "test['Age']=np.where((test.Pclass==3),test['Age'].fillna(round(test.Age[test['Pclass']==3].mean())),test.Age)"
   ]
  },
  {
   "cell_type": "markdown",
   "id": "63bd7187",
   "metadata": {},
   "source": [
    "### Missing values in Fare"
   ]
  },
  {
   "cell_type": "code",
   "execution_count": 20,
   "id": "24ec66bc",
   "metadata": {},
   "outputs": [
    {
     "data": {
      "text/html": [
       "<div>\n",
       "<style scoped>\n",
       "    .dataframe tbody tr th:only-of-type {\n",
       "        vertical-align: middle;\n",
       "    }\n",
       "\n",
       "    .dataframe tbody tr th {\n",
       "        vertical-align: top;\n",
       "    }\n",
       "\n",
       "    .dataframe thead th {\n",
       "        text-align: right;\n",
       "    }\n",
       "</style>\n",
       "<table border=\"1\" class=\"dataframe\">\n",
       "  <thead>\n",
       "    <tr style=\"text-align: right;\">\n",
       "      <th></th>\n",
       "      <th>PassengerId</th>\n",
       "      <th>Pclass</th>\n",
       "      <th>Name</th>\n",
       "      <th>Sex</th>\n",
       "      <th>Age</th>\n",
       "      <th>SibSp</th>\n",
       "      <th>Parch</th>\n",
       "      <th>Ticket</th>\n",
       "      <th>Fare</th>\n",
       "      <th>Cabin</th>\n",
       "      <th>Embarked</th>\n",
       "    </tr>\n",
       "  </thead>\n",
       "  <tbody>\n",
       "    <tr>\n",
       "      <th>266</th>\n",
       "      <td>1158</td>\n",
       "      <td>1</td>\n",
       "      <td>Chisholm, Mr. Roderick Robert Crispin</td>\n",
       "      <td>male</td>\n",
       "      <td>41.0</td>\n",
       "      <td>0</td>\n",
       "      <td>0</td>\n",
       "      <td>112051</td>\n",
       "      <td>0.0</td>\n",
       "      <td>NaN</td>\n",
       "      <td>S</td>\n",
       "    </tr>\n",
       "    <tr>\n",
       "      <th>372</th>\n",
       "      <td>1264</td>\n",
       "      <td>1</td>\n",
       "      <td>Ismay, Mr. Joseph Bruce</td>\n",
       "      <td>male</td>\n",
       "      <td>49.0</td>\n",
       "      <td>0</td>\n",
       "      <td>0</td>\n",
       "      <td>112058</td>\n",
       "      <td>0.0</td>\n",
       "      <td>B52 B54 B56</td>\n",
       "      <td>S</td>\n",
       "    </tr>\n",
       "  </tbody>\n",
       "</table>\n",
       "</div>"
      ],
      "text/plain": [
       "     PassengerId  Pclass                                   Name   Sex   Age  \\\n",
       "266         1158       1  Chisholm, Mr. Roderick Robert Crispin  male  41.0   \n",
       "372         1264       1                Ismay, Mr. Joseph Bruce  male  49.0   \n",
       "\n",
       "     SibSp  Parch  Ticket  Fare        Cabin Embarked  \n",
       "266      0      0  112051   0.0          NaN        S  \n",
       "372      0      0  112058   0.0  B52 B54 B56        S  "
      ]
     },
     "execution_count": 20,
     "metadata": {},
     "output_type": "execute_result"
    }
   ],
   "source": [
    "test[test['Fare']==test['Fare'].isna()]"
   ]
  },
  {
   "cell_type": "markdown",
   "id": "8825f1a3",
   "metadata": {},
   "source": [
    "Both missing values from fare are from those in Pclass 1, so the missing fare values can be replaced by an average of fare paid by people in Pclass 1"
   ]
  },
  {
   "cell_type": "code",
   "execution_count": 21,
   "id": "b5ef7b37",
   "metadata": {},
   "outputs": [
    {
     "data": {
      "text/plain": [
       "<AxesSubplot:xlabel='Pclass', ylabel='Fare'>"
      ]
     },
     "execution_count": 21,
     "metadata": {},
     "output_type": "execute_result"
    },
    {
     "data": {
      "image/png": "[encoded data removed]",
      "text/plain": [
       "<Figure size 432x288 with 1 Axes>"
      ]
     },
     "metadata": {
      "needs_background": "light"
     },
     "output_type": "display_data"
    }
   ],
   "source": [
    "sns.boxplot(x='Pclass',y='Fare',data=test)"
   ]
  },
  {
   "cell_type": "code",
   "execution_count": 22,
   "id": "e5adb716",
   "metadata": {},
   "outputs": [
    {
     "data": {
      "text/plain": [
       "94.28029719626169"
      ]
     },
     "execution_count": 22,
     "metadata": {},
     "output_type": "execute_result"
    }
   ],
   "source": [
    "test.Fare[test['Pclass']==1].mean()"
   ]
  },
  {
   "cell_type": "code",
   "execution_count": 23,
   "id": "49a9d294",
   "metadata": {},
   "outputs": [],
   "source": [
    "# Filling missing fare values by average fare paid by passengers of passenger class 1\n",
    "test.Fare.fillna(round(test.Fare[test['Pclass']==1].mean()),inplace=True)"
   ]
  },
  {
   "cell_type": "markdown",
   "id": "b4a795d7",
   "metadata": {},
   "source": [
    "Cabin column is mostly empty so it can be dropped"
   ]
  },
  {
   "cell_type": "code",
   "execution_count": 24,
   "id": "b3400505",
   "metadata": {},
   "outputs": [],
   "source": [
    "del train['Cabin']\n",
    "del test['Cabin']"
   ]
  },
  {
   "cell_type": "code",
   "execution_count": 25,
   "id": "e1d967d3",
   "metadata": {},
   "outputs": [
    {
     "data": {
      "text/plain": [
       "PassengerId    0\n",
       "Survived       0\n",
       "Pclass         0\n",
       "Name           0\n",
       "Sex            0\n",
       "Age            0\n",
       "SibSp          0\n",
       "Parch          0\n",
       "Ticket         0\n",
       "Fare           0\n",
       "Embarked       2\n",
       "dtype: int64"
      ]
     },
     "execution_count": 25,
     "metadata": {},
     "output_type": "execute_result"
    }
   ],
   "source": [
    "train.isna().sum()"
   ]
  },
  {
   "cell_type": "code",
   "execution_count": 26,
   "id": "01b1ba8c",
   "metadata": {},
   "outputs": [
    {
     "data": {
      "text/plain": [
       "S    644\n",
       "C    168\n",
       "Q     77\n",
       "Name: Embarked, dtype: int64"
      ]
     },
     "execution_count": 26,
     "metadata": {},
     "output_type": "execute_result"
    }
   ],
   "source": [
    "train['Embarked'].value_counts()"
   ]
  },
  {
   "cell_type": "code",
   "execution_count": 27,
   "id": "f434364c",
   "metadata": {},
   "outputs": [
    {
     "data": {
      "text/html": [
       "<div>\n",
       "<style scoped>\n",
       "    .dataframe tbody tr th:only-of-type {\n",
       "        vertical-align: middle;\n",
       "    }\n",
       "\n",
       "    .dataframe tbody tr th {\n",
       "        vertical-align: top;\n",
       "    }\n",
       "\n",
       "    .dataframe thead th {\n",
       "        text-align: right;\n",
       "    }\n",
       "</style>\n",
       "<table border=\"1\" class=\"dataframe\">\n",
       "  <thead>\n",
       "    <tr style=\"text-align: right;\">\n",
       "      <th></th>\n",
       "      <th>PassengerId</th>\n",
       "      <th>Survived</th>\n",
       "      <th>Pclass</th>\n",
       "      <th>Name</th>\n",
       "      <th>Sex</th>\n",
       "      <th>Age</th>\n",
       "      <th>SibSp</th>\n",
       "      <th>Parch</th>\n",
       "      <th>Ticket</th>\n",
       "      <th>Fare</th>\n",
       "      <th>Embarked</th>\n",
       "    </tr>\n",
       "  </thead>\n",
       "  <tbody>\n",
       "    <tr>\n",
       "      <th>61</th>\n",
       "      <td>62</td>\n",
       "      <td>1</td>\n",
       "      <td>1</td>\n",
       "      <td>Icard, Miss. Amelie</td>\n",
       "      <td>female</td>\n",
       "      <td>38.0</td>\n",
       "      <td>0</td>\n",
       "      <td>0</td>\n",
       "      <td>113572</td>\n",
       "      <td>80.0</td>\n",
       "      <td>NaN</td>\n",
       "    </tr>\n",
       "    <tr>\n",
       "      <th>829</th>\n",
       "      <td>830</td>\n",
       "      <td>1</td>\n",
       "      <td>1</td>\n",
       "      <td>Stone, Mrs. George Nelson (Martha Evelyn)</td>\n",
       "      <td>female</td>\n",
       "      <td>62.0</td>\n",
       "      <td>0</td>\n",
       "      <td>0</td>\n",
       "      <td>113572</td>\n",
       "      <td>80.0</td>\n",
       "      <td>NaN</td>\n",
       "    </tr>\n",
       "  </tbody>\n",
       "</table>\n",
       "</div>"
      ],
      "text/plain": [
       "     PassengerId  Survived  Pclass                                       Name  \\\n",
       "61            62         1       1                        Icard, Miss. Amelie   \n",
       "829          830         1       1  Stone, Mrs. George Nelson (Martha Evelyn)   \n",
       "\n",
       "        Sex   Age  SibSp  Parch  Ticket  Fare Embarked  \n",
       "61   female  38.0      0      0  113572  80.0      NaN  \n",
       "829  female  62.0      0      0  113572  80.0      NaN  "
      ]
     },
     "execution_count": 27,
     "metadata": {},
     "output_type": "execute_result"
    }
   ],
   "source": [
    "train[train['Embarked'].isna()]"
   ]
  },
  {
   "cell_type": "code",
   "execution_count": 28,
   "id": "c0302efc",
   "metadata": {
    "scrolled": true
   },
   "outputs": [
    {
     "data": {
      "text/html": [
       "<div>\n",
       "<style scoped>\n",
       "    .dataframe tbody tr th:only-of-type {\n",
       "        vertical-align: middle;\n",
       "    }\n",
       "\n",
       "    .dataframe tbody tr th {\n",
       "        vertical-align: top;\n",
       "    }\n",
       "\n",
       "    .dataframe thead th {\n",
       "        text-align: right;\n",
       "    }\n",
       "</style>\n",
       "<table border=\"1\" class=\"dataframe\">\n",
       "  <thead>\n",
       "    <tr style=\"text-align: right;\">\n",
       "      <th></th>\n",
       "      <th>PassengerId</th>\n",
       "      <th>Survived</th>\n",
       "      <th>Pclass</th>\n",
       "      <th>Name</th>\n",
       "      <th>Sex</th>\n",
       "      <th>Age</th>\n",
       "      <th>SibSp</th>\n",
       "      <th>Parch</th>\n",
       "      <th>Ticket</th>\n",
       "      <th>Fare</th>\n",
       "      <th>Embarked</th>\n",
       "    </tr>\n",
       "  </thead>\n",
       "  <tbody>\n",
       "    <tr>\n",
       "      <th>54</th>\n",
       "      <td>55</td>\n",
       "      <td>0</td>\n",
       "      <td>1</td>\n",
       "      <td>Ostby, Mr. Engelhart Cornelius</td>\n",
       "      <td>male</td>\n",
       "      <td>65.0</td>\n",
       "      <td>0</td>\n",
       "      <td>1</td>\n",
       "      <td>113509</td>\n",
       "      <td>61.9792</td>\n",
       "      <td>C</td>\n",
       "    </tr>\n",
       "    <tr>\n",
       "      <th>61</th>\n",
       "      <td>62</td>\n",
       "      <td>1</td>\n",
       "      <td>1</td>\n",
       "      <td>Icard, Miss. Amelie</td>\n",
       "      <td>female</td>\n",
       "      <td>38.0</td>\n",
       "      <td>0</td>\n",
       "      <td>0</td>\n",
       "      <td>113572</td>\n",
       "      <td>80.0000</td>\n",
       "      <td>NaN</td>\n",
       "    </tr>\n",
       "    <tr>\n",
       "      <th>166</th>\n",
       "      <td>167</td>\n",
       "      <td>1</td>\n",
       "      <td>1</td>\n",
       "      <td>Chibnall, Mrs. (Edith Martha Bowerman)</td>\n",
       "      <td>female</td>\n",
       "      <td>38.0</td>\n",
       "      <td>0</td>\n",
       "      <td>1</td>\n",
       "      <td>113505</td>\n",
       "      <td>55.0000</td>\n",
       "      <td>S</td>\n",
       "    </tr>\n",
       "    <tr>\n",
       "      <th>252</th>\n",
       "      <td>253</td>\n",
       "      <td>0</td>\n",
       "      <td>1</td>\n",
       "      <td>Stead, Mr. William Thomas</td>\n",
       "      <td>male</td>\n",
       "      <td>62.0</td>\n",
       "      <td>0</td>\n",
       "      <td>0</td>\n",
       "      <td>113514</td>\n",
       "      <td>26.5500</td>\n",
       "      <td>S</td>\n",
       "    </tr>\n",
       "    <tr>\n",
       "      <th>351</th>\n",
       "      <td>352</td>\n",
       "      <td>0</td>\n",
       "      <td>1</td>\n",
       "      <td>Williams-Lambert, Mr. Fletcher Fellows</td>\n",
       "      <td>male</td>\n",
       "      <td>38.0</td>\n",
       "      <td>0</td>\n",
       "      <td>0</td>\n",
       "      <td>113510</td>\n",
       "      <td>35.0000</td>\n",
       "      <td>S</td>\n",
       "    </tr>\n",
       "    <tr>\n",
       "      <th>356</th>\n",
       "      <td>357</td>\n",
       "      <td>1</td>\n",
       "      <td>1</td>\n",
       "      <td>Bowerman, Miss. Elsie Edith</td>\n",
       "      <td>female</td>\n",
       "      <td>22.0</td>\n",
       "      <td>0</td>\n",
       "      <td>1</td>\n",
       "      <td>113505</td>\n",
       "      <td>55.0000</td>\n",
       "      <td>S</td>\n",
       "    </tr>\n",
       "    <tr>\n",
       "      <th>377</th>\n",
       "      <td>378</td>\n",
       "      <td>0</td>\n",
       "      <td>1</td>\n",
       "      <td>Widener, Mr. Harry Elkins</td>\n",
       "      <td>male</td>\n",
       "      <td>27.0</td>\n",
       "      <td>0</td>\n",
       "      <td>2</td>\n",
       "      <td>113503</td>\n",
       "      <td>211.5000</td>\n",
       "      <td>C</td>\n",
       "    </tr>\n",
       "    <tr>\n",
       "      <th>782</th>\n",
       "      <td>783</td>\n",
       "      <td>0</td>\n",
       "      <td>1</td>\n",
       "      <td>Long, Mr. Milton Clyde</td>\n",
       "      <td>male</td>\n",
       "      <td>29.0</td>\n",
       "      <td>0</td>\n",
       "      <td>0</td>\n",
       "      <td>113501</td>\n",
       "      <td>30.0000</td>\n",
       "      <td>S</td>\n",
       "    </tr>\n",
       "    <tr>\n",
       "      <th>829</th>\n",
       "      <td>830</td>\n",
       "      <td>1</td>\n",
       "      <td>1</td>\n",
       "      <td>Stone, Mrs. George Nelson (Martha Evelyn)</td>\n",
       "      <td>female</td>\n",
       "      <td>62.0</td>\n",
       "      <td>0</td>\n",
       "      <td>0</td>\n",
       "      <td>113572</td>\n",
       "      <td>80.0000</td>\n",
       "      <td>NaN</td>\n",
       "    </tr>\n",
       "  </tbody>\n",
       "</table>\n",
       "</div>"
      ],
      "text/plain": [
       "     PassengerId  Survived  Pclass                                       Name  \\\n",
       "54            55         0       1             Ostby, Mr. Engelhart Cornelius   \n",
       "61            62         1       1                        Icard, Miss. Amelie   \n",
       "166          167         1       1     Chibnall, Mrs. (Edith Martha Bowerman)   \n",
       "252          253         0       1                  Stead, Mr. William Thomas   \n",
       "351          352         0       1     Williams-Lambert, Mr. Fletcher Fellows   \n",
       "356          357         1       1                Bowerman, Miss. Elsie Edith   \n",
       "377          378         0       1                  Widener, Mr. Harry Elkins   \n",
       "782          783         0       1                     Long, Mr. Milton Clyde   \n",
       "829          830         1       1  Stone, Mrs. George Nelson (Martha Evelyn)   \n",
       "\n",
       "        Sex   Age  SibSp  Parch  Ticket      Fare Embarked  \n",
       "54     male  65.0      0      1  113509   61.9792        C  \n",
       "61   female  38.0      0      0  113572   80.0000      NaN  \n",
       "166  female  38.0      0      1  113505   55.0000        S  \n",
       "252    male  62.0      0      0  113514   26.5500        S  \n",
       "351    male  38.0      0      0  113510   35.0000        S  \n",
       "356  female  22.0      0      1  113505   55.0000        S  \n",
       "377    male  27.0      0      2  113503  211.5000        C  \n",
       "782    male  29.0      0      0  113501   30.0000        S  \n",
       "829  female  62.0      0      0  113572   80.0000      NaN  "
      ]
     },
     "execution_count": 28,
     "metadata": {},
     "output_type": "execute_result"
    }
   ],
   "source": [
    "train[train['Ticket'].str.startswith('1135')]"
   ]
  },
  {
   "cell_type": "markdown",
   "id": "2e53c35a",
   "metadata": {},
   "source": [
    "Since most of the Passengers with a similar ticket number boarded from Southampton, replacing the missing embarked values with S"
   ]
  },
  {
   "cell_type": "code",
   "execution_count": 29,
   "id": "0d819ac0",
   "metadata": {},
   "outputs": [],
   "source": [
    "train['Embarked'].fillna('S',inplace=True)"
   ]
  },
  {
   "cell_type": "code",
   "execution_count": 30,
   "id": "c4695477",
   "metadata": {},
   "outputs": [
    {
     "data": {
      "text/plain": [
       "PassengerId    0\n",
       "Survived       0\n",
       "Pclass         0\n",
       "Name           0\n",
       "Sex            0\n",
       "Age            0\n",
       "SibSp          0\n",
       "Parch          0\n",
       "Ticket         0\n",
       "Fare           0\n",
       "Embarked       0\n",
       "dtype: int64"
      ]
     },
     "execution_count": 30,
     "metadata": {},
     "output_type": "execute_result"
    }
   ],
   "source": [
    "train.isna().sum()"
   ]
  },
  {
   "cell_type": "markdown",
   "id": "156891db",
   "metadata": {},
   "source": [
    "## Data Vizualisations to find relations and interpret data"
   ]
  },
  {
   "cell_type": "markdown",
   "id": "bfff3a6e",
   "metadata": {},
   "source": [
    "Creating a new column which contains Yes an No values of whether a person was travelin with family or not."
   ]
  },
  {
   "cell_type": "code",
   "execution_count": 31,
   "id": "0fc098b8",
   "metadata": {},
   "outputs": [],
   "source": [
    "# Adding new column with null values to be filled later\n",
    "train['With_Family']=np.NaN"
   ]
  },
  {
   "cell_type": "code",
   "execution_count": 32,
   "id": "c60e29f3",
   "metadata": {},
   "outputs": [],
   "source": [
    "# filling null values with Yes if the person has any Sibling,Spouse,Parent,Child traveling with him/her else filling No\n",
    "train['With_Family']=np.where((train.SibSp!=0)|(train.Parch!=0),train['With_Family'].fillna('Yes'),train['With_Family'].fillna('No'))"
   ]
  },
  {
   "cell_type": "markdown",
   "id": "aad9491e",
   "metadata": {},
   "source": [
    "### Survival and Gender"
   ]
  },
  {
   "cell_type": "markdown",
   "id": "900893b1",
   "metadata": {},
   "source": [
    "Plots below depict that of those survived, most were female (68%) and only 32% male. Among female, 74% survived while among male, 19% survived"
   ]
  },
  {
   "cell_type": "code",
   "execution_count": 33,
   "id": "d6694cd0",
   "metadata": {},
   "outputs": [
    {
     "data": {
      "image/png": "[encoded data removed]",
      "text/plain": [
       "<Figure size 432x288 with 1 Axes>"
      ]
     },
     "metadata": {
      "needs_background": "light"
     },
     "output_type": "display_data"
    }
   ],
   "source": [
    "# Shows number of people survived/died based on gender\n",
    "sns.countplot(x='Survived',hue='Sex',data=train).set_title(\"No. of passengers survived/died based on gender\")\n",
    "plt.show()"
   ]
  },
  {
   "cell_type": "code",
   "execution_count": 34,
   "id": "a07ba470",
   "metadata": {
    "scrolled": false
   },
   "outputs": [
    {
     "data": {
      "image/png": "[encoded data removed]",
      "text/plain": [
       "<Figure size 432x288 with 1 Axes>"
      ]
     },
     "metadata": {},
     "output_type": "display_data"
    }
   ],
   "source": [
    "# percentage survived femals vs male\n",
    "plt.pie(train.Sex[train.Survived==1].value_counts(),labels=['female','male'], autopct='%1.0f%%')\n",
    "plt.title(\"percentage survived female vs male\")\n",
    "plt.show()"
   ]
  },
  {
   "cell_type": "code",
   "execution_count": 35,
   "id": "7bf78dbe",
   "metadata": {},
   "outputs": [],
   "source": [
    "labels=['Died','Survived']"
   ]
  },
  {
   "cell_type": "code",
   "execution_count": 36,
   "id": "11ee0f7e",
   "metadata": {
    "scrolled": true
   },
   "outputs": [
    {
     "data": {
      "image/png": "[encoded data removed]",
      "text/plain": [
       "<Figure size 432x288 with 2 Axes>"
      ]
     },
     "metadata": {},
     "output_type": "display_data"
    }
   ],
   "source": [
    "plt.subplot(1,2,1)\n",
    "plt.pie(train.Survived[train.Sex=='male'].value_counts(sort=False),labels=labels, autopct='%1.0f%%')\n",
    "plt.title(\"Survival % male\")\n",
    "plt.subplot(1,2,2)\n",
    "plt.pie(train.Survived[train.Sex=='female'].value_counts(sort=False),labels=labels, autopct='%1.0f%%')\n",
    "plt.title(\"Survival % female\")\n",
    "plt.show()"
   ]
  },
  {
   "cell_type": "markdown",
   "id": "3cda52bb",
   "metadata": {},
   "source": [
    "## Age and Survival "
   ]
  },
  {
   "cell_type": "markdown",
   "id": "733d2da5",
   "metadata": {},
   "source": [
    "When we compare each age group with its Survival, it shows that a child(<16) was more likely to survive that the other two age groups. Among their own age groups, 59% Children survived while only 37% adults(<60) and 27% Seniors(>=60) surived among their age groups"
   ]
  },
  {
   "cell_type": "code",
   "execution_count": 37,
   "id": "2ef3cee4",
   "metadata": {},
   "outputs": [],
   "source": [
    "# Making a column with null values to fill later to categorize Age into Age groups \n",
    "train['Age Group']=np.NaN"
   ]
  },
  {
   "cell_type": "code",
   "execution_count": 38,
   "id": "3dcc018a",
   "metadata": {},
   "outputs": [],
   "source": [
    "# Age < 16 are Child, 16<=Age<60 are adults and Age>=60 are Seniors\n",
    "train['Age Group']=np.where(train.Age<16,train['Age Group'].fillna('Child'),train['Age Group'])\n",
    "train['Age Group']=np.where((train.Age>=16)&(train.Age<60),train['Age Group'].fillna('Adult'),train['Age Group'])\n",
    "train['Age Group']=np.where(train.Age>=60,train['Age Group'].fillna('Senior'),train['Age Group'])"
   ]
  },
  {
   "cell_type": "code",
   "execution_count": 39,
   "id": "c1c2f4df",
   "metadata": {},
   "outputs": [
    {
     "data": {
      "text/plain": [
       "<AxesSubplot:xlabel='Age Group', ylabel='count'>"
      ]
     },
     "execution_count": 39,
     "metadata": {},
     "output_type": "execute_result"
    },
    {
     "data": {
      "image/png": "[encoded data removed]",
      "text/plain": [
       "<Figure size 432x288 with 1 Axes>"
      ]
     },
     "metadata": {
      "needs_background": "light"
     },
     "output_type": "display_data"
    }
   ],
   "source": [
    "sns.countplot(x='Age Group',hue='Survived',data=train)"
   ]
  },
  {
   "cell_type": "code",
   "execution_count": 40,
   "id": "45db31da",
   "metadata": {
    "scrolled": true
   },
   "outputs": [
    {
     "data": {
      "image/png": "[encoded data removed]",
      "text/plain": [
       "<Figure size 432x288 with 3 Axes>"
      ]
     },
     "metadata": {},
     "output_type": "display_data"
    }
   ],
   "source": [
    "plt.suptitle(\"Survival by Age Group\")\n",
    "plt.subplot(1,3,1)\n",
    "plt.pie(train.Survived[train['Age Group']=='Child'].value_counts(sort=False),labels=labels, autopct='%1.0f%%')\n",
    "plt.title(\"Children\")\n",
    "plt.subplot(1,3,2)\n",
    "plt.pie(train.Survived[train['Age Group']=='Adult'].value_counts(sort=False),labels=labels, autopct='%1.0f%%')\n",
    "plt.title(\"Adults\")\n",
    "plt.subplot(1,3,3)\n",
    "plt.pie(train.Survived[train['Age Group']=='Senior'].value_counts(sort=False),labels=labels, autopct='%1.0f%%')\n",
    "plt.title(\"Senior\")\n",
    "plt.show()"
   ]
  },
  {
   "cell_type": "markdown",
   "id": "5ae5db97",
   "metadata": {},
   "source": [
    "### Survival and Passenger Class "
   ]
  },
  {
   "cell_type": "markdown",
   "id": "5f204796",
   "metadata": {},
   "source": [
    "Depicts that among those from Passenger class 1, more survived than died unlike the other two cases, where there were more deaths than survival. This was because Passenger Class 1 was closer to the lifeboats which increased their chances of survival. Despite the total passengers in Passenger class 3 being much more than that of passenger class 1, the number of survivors were less. "
   ]
  },
  {
   "cell_type": "code",
   "execution_count": 41,
   "id": "3d0acf06",
   "metadata": {
    "scrolled": false
   },
   "outputs": [
    {
     "data": {
      "image/png": "[encoded data removed]",
      "text/plain": [
       "<Figure size 432x288 with 1 Axes>"
      ]
     },
     "metadata": {
      "needs_background": "light"
     },
     "output_type": "display_data"
    }
   ],
   "source": [
    "sns.countplot(x='Pclass',hue='Survived',data=train).set_title(\"No. of passengers survived/died based on Passenger class\")\n",
    "plt.show()"
   ]
  },
  {
   "cell_type": "markdown",
   "id": "931c6a26",
   "metadata": {},
   "source": [
    "#### Relation b/w Passenger Class and Survival over each individual groups (men, women, children)"
   ]
  },
  {
   "cell_type": "markdown",
   "id": "24c90d0d",
   "metadata": {},
   "source": [
    "To test the relationship b/w Passenger class and Survival for each individual group to check if Passenger class really has a strong effect on Survival or not"
   ]
  },
  {
   "cell_type": "code",
   "execution_count": 42,
   "id": "4fb18c30",
   "metadata": {},
   "outputs": [],
   "source": [
    "# Making 3 different datasets from train dataset for each category : men, women, children\n",
    "train_men = train[(train.Sex=='male')&(train.Age>=16)]\n",
    "train_women = train[(train.Sex=='female')&(train.Age>=16)]\n",
    "train_children = train[train.Age<16]"
   ]
  },
  {
   "cell_type": "code",
   "execution_count": 43,
   "id": "eab1d6b6",
   "metadata": {
    "scrolled": true
   },
   "outputs": [
    {
     "data": {
      "image/png": "[encoded data removed]",
      "text/plain": [
       "<Figure size 432x288 with 3 Axes>"
      ]
     },
     "metadata": {},
     "output_type": "display_data"
    }
   ],
   "source": [
    "plt.suptitle(\"Men Survival % in each Passenger Class\")\n",
    "plt.subplot(1,3,1)\n",
    "plt.pie(train_men.Survived[train_men.Pclass==1].value_counts(sort=False),labels=labels, autopct='%1.0f%%')\n",
    "plt.title(\"Pclass 1\")\n",
    "plt.subplot(1,3,2)\n",
    "plt.pie(train_men.Survived[train_men.Pclass==2].value_counts(sort=False),labels=labels, autopct='%1.0f%%')\n",
    "plt.title(\"Pclass 2\")\n",
    "plt.subplot(1,3,3)\n",
    "plt.pie(train_men.Survived[train_men.Pclass==3].value_counts(sort=False),labels=labels, autopct='%1.0f%%')\n",
    "plt.title(\"Pclass 3\")\n",
    "plt.show()"
   ]
  },
  {
   "cell_type": "markdown",
   "id": "05d46d10",
   "metadata": {},
   "source": [
    "Among men, 35% survived in Pclass 1, 8% from Pclass 2 and 12% from Pclass 3 which is strange because it was suspected that those in higher passenger classes would survive at higher rate but the rate of survival among men in second class is less than that of third class."
   ]
  },
  {
   "cell_type": "code",
   "execution_count": 44,
   "id": "8a8e0635",
   "metadata": {
    "scrolled": false
   },
   "outputs": [
    {
     "data": {
      "image/png": "[encoded data removed]",
      "text/plain": [
       "<Figure size 432x288 with 3 Axes>"
      ]
     },
     "metadata": {},
     "output_type": "display_data"
    }
   ],
   "source": [
    "plt.suptitle(\"Women Survival % in each Passenger Class\")\n",
    "plt.subplot(1,3,1)\n",
    "plt.pie(train_women.Survived[train_women.Pclass==1].value_counts(sort=False),labels=labels, autopct='%1.0f%%')\n",
    "plt.title(\"Pclass 1\")\n",
    "plt.subplot(1,3,2)\n",
    "plt.pie(train_women.Survived[train_women.Pclass==2].value_counts(sort=False),labels=labels, autopct='%1.0f%%')\n",
    "plt.title(\"Pclass 2\")\n",
    "plt.subplot(1,3,3)\n",
    "plt.pie(train_women.Survived[train_women.Pclass==3].value_counts(sort=False),labels=labels, autopct='%1.0f%%')\n",
    "plt.title(\"Pclass 3\")\n",
    "plt.show()"
   ]
  },
  {
   "cell_type": "markdown",
   "id": "51f972b8",
   "metadata": {},
   "source": [
    "Among women, 98% in first class survived, 91% in second class and 49% in third class. Surviving at higher rates than men, and matches the hypothesis that lower the Passenger Class, Lower the rate of survival"
   ]
  },
  {
   "cell_type": "code",
   "execution_count": 45,
   "id": "5d080778",
   "metadata": {
    "scrolled": true
   },
   "outputs": [
    {
     "data": {
      "image/png": "[encoded data removed]",
      "text/plain": [
       "<Figure size 432x288 with 3 Axes>"
      ]
     },
     "metadata": {},
     "output_type": "display_data"
    }
   ],
   "source": [
    "plt.suptitle(\"children Survival % in each Passenger Class\")\n",
    "plt.subplot(1,3,1)\n",
    "plt.pie(train_children.Survived[train_children.Pclass==1].value_counts(sort=False),labels=labels, autopct='%1.0f%%')\n",
    "plt.title(\"Pclass 1\")\n",
    "plt.subplot(1,3,2)\n",
    "plt.pie(train_children.Survived[train_children.Pclass==2].value_counts(sort=False),labels=['Survived'],colors=['tab:orange'], autopct='%1.0f%%')\n",
    "plt.title(\"Pclass 2\")\n",
    "plt.subplot(1,3,3)\n",
    "plt.pie(train_children.Survived[train_children.Pclass==3].value_counts(sort=False),labels=labels, autopct='%1.0f%%')\n",
    "plt.title(\"Pclass 3\")\n",
    "plt.show()"
   ]
  },
  {
   "cell_type": "markdown",
   "id": "03a2b37c",
   "metadata": {},
   "source": [
    "83% of children in first class survived, whereas 100% of children in second class survived (which is more than that of first class), and 43% of children in third class survived"
   ]
  },
  {
   "cell_type": "markdown",
   "id": "232f8643",
   "metadata": {},
   "source": [
    "The relationship between passenger class and survival (hypothesis that lower the Passenger class lower the chances of survival) does not hold perfectly when passenger categories are involved which determines gender and age groups played more of a factor than passenger class when determining who survived"
   ]
  },
  {
   "cell_type": "markdown",
   "id": "e274c44c",
   "metadata": {},
   "source": [
    "### Embarkation Point and Survival "
   ]
  },
  {
   "cell_type": "markdown",
   "id": "43a3f78f",
   "metadata": {},
   "source": [
    "55% of those embarked from Cherbourg survived, while only around 34% and 39% who embarked from Southampton and Queenstown respectively Survived which tells someone who boarded from Cherbourg is more likely to survive"
   ]
  },
  {
   "cell_type": "code",
   "execution_count": 46,
   "id": "f2ffbb7c",
   "metadata": {},
   "outputs": [
    {
     "data": {
      "text/plain": [
       "<AxesSubplot:xlabel='Embarked', ylabel='count'>"
      ]
     },
     "execution_count": 46,
     "metadata": {},
     "output_type": "execute_result"
    },
    {
     "data": {
      "image/png": "[encoded data removed]",
      "text/plain": [
       "<Figure size 432x288 with 1 Axes>"
      ]
     },
     "metadata": {
      "needs_background": "light"
     },
     "output_type": "display_data"
    }
   ],
   "source": [
    "sns.countplot(x='Embarked',data=train)  #Most people embarked from Southampton, then Cherbourg and then Queenstown "
   ]
  },
  {
   "cell_type": "code",
   "execution_count": 47,
   "id": "c81f8e1d",
   "metadata": {
    "scrolled": true
   },
   "outputs": [
    {
     "data": {
      "text/plain": [
       "<AxesSubplot:xlabel='Embarked', ylabel='count'>"
      ]
     },
     "execution_count": 47,
     "metadata": {},
     "output_type": "execute_result"
    },
    {
     "data": {
      "image/png": "[encoded data removed]",
      "text/plain": [
       "<Figure size 432x288 with 1 Axes>"
      ]
     },
     "metadata": {
      "needs_background": "light"
     },
     "output_type": "display_data"
    }
   ],
   "source": [
    "sns.countplot(x='Embarked',hue='Survived',data=train)"
   ]
  },
  {
   "cell_type": "code",
   "execution_count": 48,
   "id": "06ed7672",
   "metadata": {},
   "outputs": [
    {
     "data": {
      "text/plain": [
       "33.90092879256966"
      ]
     },
     "execution_count": 48,
     "metadata": {},
     "output_type": "execute_result"
    }
   ],
   "source": [
    "# Percentage Survived who embarked from Southampton\n",
    "len(train[(train.Embarked=='S')&(train.Survived==1)])/len(train[(train.Embarked=='S')]) * 100"
   ]
  },
  {
   "cell_type": "code",
   "execution_count": 49,
   "id": "f553b518",
   "metadata": {},
   "outputs": [
    {
     "data": {
      "text/plain": [
       "55.35714285714286"
      ]
     },
     "execution_count": 49,
     "metadata": {},
     "output_type": "execute_result"
    }
   ],
   "source": [
    "# Percentage survived who embarked from Cherbourg\n",
    "len(train[(train.Embarked=='C')&(train.Survived==1)])/len(train[(train.Embarked=='C')]) * 100"
   ]
  },
  {
   "cell_type": "code",
   "execution_count": 50,
   "id": "d7d62d94",
   "metadata": {},
   "outputs": [
    {
     "data": {
      "text/plain": [
       "38.961038961038966"
      ]
     },
     "execution_count": 50,
     "metadata": {},
     "output_type": "execute_result"
    }
   ],
   "source": [
    "# Percentage survived who embarked from Queenstown\n",
    "len(train[(train.Embarked=='Q')&(train.Survived==1)])/len(train[(train.Embarked=='Q')]) * 100"
   ]
  },
  {
   "cell_type": "markdown",
   "id": "d774df68",
   "metadata": {},
   "source": [
    "### Embarkation point and survival when passenger categories are involved "
   ]
  },
  {
   "cell_type": "code",
   "execution_count": 51,
   "id": "225e56b2",
   "metadata": {},
   "outputs": [
    {
     "data": {
      "image/png": "[encoded data removed]",
      "text/plain": [
       "<Figure size 432x288 with 3 Axes>"
      ]
     },
     "metadata": {},
     "output_type": "display_data"
    }
   ],
   "source": [
    "plt.suptitle(\"Men Survival % by embarkment point\")\n",
    "plt.subplot(1,3,1)\n",
    "plt.pie(train_men.Survived[train_men.Embarked=='S'].value_counts(sort=False),labels=labels, autopct='%1.0f%%')\n",
    "plt.title(\"Southampton\")\n",
    "plt.subplot(1,3,2)\n",
    "plt.pie(train_men.Survived[train_men.Embarked=='C'].value_counts(sort=False),labels=labels, autopct='%1.0f%%')\n",
    "plt.title(\"Cherbourg\")\n",
    "plt.subplot(1,3,3)\n",
    "plt.pie(train_men.Survived[train_men.Embarked=='Q'].value_counts(sort=False),labels=labels, autopct='%1.0f%%')\n",
    "plt.title(\"Queenstown\")\n",
    "plt.show()"
   ]
  },
  {
   "cell_type": "markdown",
   "id": "bf389321",
   "metadata": {},
   "source": [
    "It shows that men were most likely to survive if they boarded at Cherbourg (29% survival rate) versus the two other embarkment points, Southmapton (14%) and Queenstown (8%)"
   ]
  },
  {
   "cell_type": "code",
   "execution_count": 52,
   "id": "3ada4c09",
   "metadata": {},
   "outputs": [
    {
     "data": {
      "image/png": "[encoded data removed]",
      "text/plain": [
       "<Figure size 432x288 with 3 Axes>"
      ]
     },
     "metadata": {},
     "output_type": "display_data"
    }
   ],
   "source": [
    "plt.suptitle(\"Women Survival % by embarkment point\")\n",
    "plt.subplot(1,3,1)\n",
    "plt.pie(train_women.Survived[train_women.Embarked=='S'].value_counts(sort=False),labels=labels, autopct='%1.0f%%')\n",
    "plt.title(\"Southampton\")\n",
    "plt.subplot(1,3,2)\n",
    "plt.pie(train_women.Survived[train_women.Embarked=='C'].value_counts(sort=False),labels=labels, autopct='%1.0f%%')\n",
    "plt.title(\"Cherbourg\")\n",
    "plt.subplot(1,3,3)\n",
    "plt.pie(train_women.Survived[train_women.Embarked=='Q'].value_counts(sort=False),labels=labels, autopct='%1.0f%%')\n",
    "plt.title(\"Queenstown\")\n",
    "plt.show()"
   ]
  },
  {
   "cell_type": "markdown",
   "id": "1f52ff1f",
   "metadata": {},
   "source": [
    "Again, among women also, likelihood of survival was most for those who embarked from Cherbourg (88% survived) as compared to other those who embarked from other two sites, Southampton(72%) and Queenstown(74%)"
   ]
  },
  {
   "cell_type": "code",
   "execution_count": 53,
   "id": "11e7185b",
   "metadata": {
    "scrolled": true
   },
   "outputs": [
    {
     "data": {
      "image/png": "[encoded data removed]",
      "text/plain": [
       "<Figure size 432x288 with 3 Axes>"
      ]
     },
     "metadata": {},
     "output_type": "display_data"
    }
   ],
   "source": [
    "plt.suptitle(\"Children Survival % by embarkment point\")\n",
    "plt.subplot(1,3,1)\n",
    "plt.pie(train_children.Survived[train_children.Embarked=='S'].value_counts(sort=False),labels=labels, autopct='%1.0f%%')\n",
    "plt.title(\"Southampton\")\n",
    "plt.subplot(1,3,2)\n",
    "plt.pie(train_children.Survived[train_children.Embarked=='C'].value_counts(sort=False),labels=labels, autopct='%1.0f%%')\n",
    "plt.title(\"Cherbourg\")\n",
    "plt.subplot(1,3,3)\n",
    "plt.pie(train_children.Survived[train_children.Embarked=='Q'].value_counts(sort=False),labels=labels, autopct='%1.0f%%')\n",
    "plt.title(\"Queenstown\")\n",
    "plt.show()"
   ]
  },
  {
   "cell_type": "markdown",
   "id": "25086365",
   "metadata": {},
   "source": [
    "All the plots above indicate that even after involving passenger categories in the relation between embarkent site and survival, the hypothesis that people who boarded from Cherbourg more likely survived as compared to those who boarded from other two sites holds"
   ]
  },
  {
   "cell_type": "markdown",
   "id": "6956cc67",
   "metadata": {},
   "source": [
    "## Traveling with family and Survival"
   ]
  },
  {
   "cell_type": "markdown",
   "id": "0b902fa5",
   "metadata": {},
   "source": [
    "This Shows that those traveling with families survive at higher rates(51% among those with family survived) as compared to those traveling individually (30% survived)."
   ]
  },
  {
   "cell_type": "code",
   "execution_count": 54,
   "id": "202cc314",
   "metadata": {},
   "outputs": [
    {
     "data": {
      "image/png": "[encoded data removed]",
      "text/plain": [
       "<Figure size 432x288 with 1 Axes>"
      ]
     },
     "metadata": {
      "needs_background": "light"
     },
     "output_type": "display_data"
    }
   ],
   "source": [
    "sns.countplot(x='With_Family',hue='Survived',data=train)\n",
    "plt.show()"
   ]
  },
  {
   "cell_type": "code",
   "execution_count": 55,
   "id": "fbc5de5f",
   "metadata": {
    "scrolled": true
   },
   "outputs": [
    {
     "data": {
      "image/png": "[encoded data removed]",
      "text/plain": [
       "<Figure size 432x288 with 2 Axes>"
      ]
     },
     "metadata": {},
     "output_type": "display_data"
    }
   ],
   "source": [
    "plt.suptitle(\"Did travel with family impact Survival\")\n",
    "plt.subplot(1,2,1)\n",
    "plt.pie(train.Survived[train['With_Family']=='Yes'].value_counts(sort=False),labels=labels, autopct='%1.0f%%')\n",
    "plt.title(\"Traveling with family\")\n",
    "plt.subplot(1,2,2)\n",
    "plt.pie(train.Survived[train['With_Family']=='No'].value_counts(sort=False),labels=labels, autopct='%1.0f%%')\n",
    "plt.title(\"Traveling without family\")\n",
    "plt.show()"
   ]
  },
  {
   "cell_type": "markdown",
   "id": "b5ce13d9",
   "metadata": {},
   "source": [
    "Among those who survived, 52% were traveling with family and 48% were traveling individually"
   ]
  },
  {
   "cell_type": "code",
   "execution_count": 56,
   "id": "0aaae84c",
   "metadata": {},
   "outputs": [
    {
     "data": {
      "image/png": "[encoded data removed]",
      "text/plain": [
       "<Figure size 432x288 with 1 Axes>"
      ]
     },
     "metadata": {},
     "output_type": "display_data"
    }
   ],
   "source": [
    "plt.pie(train.With_Family[train.Survived==1].value_counts(),labels=['With Family','Individually'], autopct='%1.0f%%')\n",
    "plt.show()"
   ]
  },
  {
   "cell_type": "markdown",
   "id": "4f71313b",
   "metadata": {},
   "source": [
    "### Traveling with family impact on survival when passenger categories are involved "
   ]
  },
  {
   "cell_type": "code",
   "execution_count": 57,
   "id": "082a0739",
   "metadata": {
    "scrolled": true
   },
   "outputs": [
    {
     "data": {
      "image/png": "[encoded data removed]",
      "text/plain": [
       "<Figure size 432x288 with 2 Axes>"
      ]
     },
     "metadata": {},
     "output_type": "display_data"
    }
   ],
   "source": [
    "plt.suptitle(\"Men\")\n",
    "plt.subplot(1,2,1)\n",
    "plt.pie(train_men.Survived[train_men['With_Family']=='Yes'].value_counts(sort=False),labels=labels, autopct='%1.0f%%')\n",
    "plt.title(\"Traveling with family\")\n",
    "plt.subplot(1,2,2)\n",
    "plt.pie(train_men.Survived[train_men['With_Family']=='No'].value_counts(sort=False),labels=labels, autopct='%1.0f%%')\n",
    "plt.title(\"Traveling without family\")\n",
    "plt.show()"
   ]
  },
  {
   "cell_type": "markdown",
   "id": "63ecf797",
   "metadata": {},
   "source": [
    "whether or not men traveled with family or not hardly made a difference, slightly in favor of those traveling with family. 19% of those traveling with family survived versus 16% without family survived"
   ]
  },
  {
   "cell_type": "code",
   "execution_count": 58,
   "id": "9cd9c693",
   "metadata": {},
   "outputs": [
    {
     "data": {
      "image/png": "[encoded data removed]",
      "text/plain": [
       "<Figure size 432x288 with 2 Axes>"
      ]
     },
     "metadata": {},
     "output_type": "display_data"
    }
   ],
   "source": [
    "plt.suptitle(\"Women\")\n",
    "plt.subplot(1,2,1)\n",
    "plt.pie(train_women.Survived[train_women['With_Family']=='Yes'].value_counts(sort=False),labels=labels, autopct='%1.0f%%')\n",
    "plt.title(\"Traveling with family\")\n",
    "plt.subplot(1,2,2)\n",
    "plt.pie(train_women.Survived[train_women['With_Family']=='No'].value_counts(sort=False),labels=labels, autopct='%1.0f%%')\n",
    "plt.title(\"Traveling without family\")\n",
    "plt.show()"
   ]
  },
  {
   "cell_type": "markdown",
   "id": "f8726396",
   "metadata": {},
   "source": [
    "Likewise, whether or not women were traveling with family also only created a marginal difference but this time in favour of those who travelled individually, 73% of women traveling with family survived versus 78% of women traveling individually."
   ]
  },
  {
   "cell_type": "code",
   "execution_count": 59,
   "id": "5470b0b0",
   "metadata": {},
   "outputs": [
    {
     "data": {
      "image/png": "[encoded data removed]",
      "text/plain": [
       "<Figure size 432x288 with 2 Axes>"
      ]
     },
     "metadata": {},
     "output_type": "display_data"
    }
   ],
   "source": [
    "plt.suptitle(\"children\")\n",
    "plt.subplot(1,2,1)\n",
    "plt.pie(train_children.Survived[train_children['With_Family']=='Yes'].value_counts(sort=False),labels=labels, autopct='%1.0f%%')\n",
    "plt.title(\"Traveling with family\")\n",
    "plt.subplot(1,2,2)\n",
    "plt.pie(train_children.Survived[train_children['With_Family']=='No'].value_counts(sort=False),labels=labels, autopct='%1.0f%%')\n",
    "plt.title(\"Traveling without family\")\n",
    "plt.show()"
   ]
  },
  {
   "cell_type": "markdown",
   "id": "8953e055",
   "metadata": {},
   "source": [
    "Also, children’s survivability rate compared with whether or not they were traveling with family was in favor of those who were on their own–surviving 67% versus 58% of those traveling with family"
   ]
  },
  {
   "cell_type": "markdown",
   "id": "21c92821",
   "metadata": {},
   "source": [
    "# Conclusion"
   ]
  },
  {
   "cell_type": "markdown",
   "id": "8830cdb1",
   "metadata": {},
   "source": [
    "We found that women and children survived at much higher rates than men, probably because they were let off of the ship first. Although the hypothesis that passenger class would have the strongest effect on survival overall, we found that the relationship didn’t hold when we broke down the population into men, women, and children. We found that embarkment point also had an impact on survival, since those embarking at Cherbourg survived at much higher rates than the other two embarkment points."
   ]
  }
 ],
 "metadata": {
  "kernelspec": {
   "display_name": "Python 3",
   "language": "python",
   "name": "python3"
  },
  "language_info": {
   "codemirror_mode": {
    "name": "ipython",
    "version": 3
   },
   "file_extension": ".py",
   "mimetype": "text/x-python",
   "name": "python",
   "nbconvert_exporter": "python",
   "pygments_lexer": "ipython3",
   "version": "3.8.8"
  }
 },
 "nbformat": 4,
 "nbformat_minor": 5
}
